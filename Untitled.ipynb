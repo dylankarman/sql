{
 "cells": [
  {
   "cell_type": "code",
   "execution_count": 1,
   "metadata": {},
   "outputs": [],
   "source": [
    "import pandas as pd\n",
    "import sqlite3\n",
    "conn = sqlite3.connect('dogs.db')\n",
    "conn1 = sqlite3.connect('planets.db')\n",
    "cur = conn.cursor()\n",
    "cur1 = conn1.cursor()"
   ]
  },
  {
   "cell_type": "code",
   "execution_count": 2,
   "metadata": {},
   "outputs": [
    {
     "data": {
      "text/html": [
       "<div>\n",
       "<style scoped>\n",
       "    .dataframe tbody tr th:only-of-type {\n",
       "        vertical-align: middle;\n",
       "    }\n",
       "\n",
       "    .dataframe tbody tr th {\n",
       "        vertical-align: top;\n",
       "    }\n",
       "\n",
       "    .dataframe thead th {\n",
       "        text-align: right;\n",
       "    }\n",
       "</style>\n",
       "<table border=\"1\" class=\"dataframe\">\n",
       "  <thead>\n",
       "    <tr style=\"text-align: right;\">\n",
       "      <th></th>\n",
       "      <th>id</th>\n",
       "      <th>name</th>\n",
       "      <th>age</th>\n",
       "      <th>gender</th>\n",
       "      <th>breed</th>\n",
       "      <th>temperament</th>\n",
       "      <th>hungry</th>\n",
       "    </tr>\n",
       "  </thead>\n",
       "  <tbody>\n",
       "    <tr>\n",
       "      <td>0</td>\n",
       "      <td>1</td>\n",
       "      <td>Snoopy</td>\n",
       "      <td>3</td>\n",
       "      <td>M</td>\n",
       "      <td>beagle</td>\n",
       "      <td>friendly</td>\n",
       "      <td>1</td>\n",
       "    </tr>\n",
       "    <tr>\n",
       "      <td>1</td>\n",
       "      <td>2</td>\n",
       "      <td>McGruff</td>\n",
       "      <td>10</td>\n",
       "      <td>M</td>\n",
       "      <td>bloodhound</td>\n",
       "      <td>aware</td>\n",
       "      <td>0</td>\n",
       "    </tr>\n",
       "    <tr>\n",
       "      <td>2</td>\n",
       "      <td>3</td>\n",
       "      <td>Scooby</td>\n",
       "      <td>6</td>\n",
       "      <td>M</td>\n",
       "      <td>great dane</td>\n",
       "      <td>hungry</td>\n",
       "      <td>1</td>\n",
       "    </tr>\n",
       "    <tr>\n",
       "      <td>3</td>\n",
       "      <td>4</td>\n",
       "      <td>Little Ann</td>\n",
       "      <td>5</td>\n",
       "      <td>F</td>\n",
       "      <td>coonhound</td>\n",
       "      <td>loyal</td>\n",
       "      <td>0</td>\n",
       "    </tr>\n",
       "    <tr>\n",
       "      <td>4</td>\n",
       "      <td>5</td>\n",
       "      <td>Pickles</td>\n",
       "      <td>13</td>\n",
       "      <td>F</td>\n",
       "      <td>black lab</td>\n",
       "      <td>mischievous</td>\n",
       "      <td>1</td>\n",
       "    </tr>\n",
       "    <tr>\n",
       "      <td>5</td>\n",
       "      <td>6</td>\n",
       "      <td>Clifford</td>\n",
       "      <td>4</td>\n",
       "      <td>M</td>\n",
       "      <td>big red</td>\n",
       "      <td>smiley</td>\n",
       "      <td>1</td>\n",
       "    </tr>\n",
       "    <tr>\n",
       "      <td>6</td>\n",
       "      <td>7</td>\n",
       "      <td>Lassie</td>\n",
       "      <td>7</td>\n",
       "      <td>F</td>\n",
       "      <td>collie</td>\n",
       "      <td>loving</td>\n",
       "      <td>1</td>\n",
       "    </tr>\n",
       "    <tr>\n",
       "      <td>7</td>\n",
       "      <td>8</td>\n",
       "      <td>Snowy</td>\n",
       "      <td>8</td>\n",
       "      <td>F</td>\n",
       "      <td>fox terrier</td>\n",
       "      <td>adventurous</td>\n",
       "      <td>0</td>\n",
       "    </tr>\n",
       "    <tr>\n",
       "      <td>8</td>\n",
       "      <td>9</td>\n",
       "      <td>None</td>\n",
       "      <td>4</td>\n",
       "      <td>M</td>\n",
       "      <td>golden retriever</td>\n",
       "      <td>playful</td>\n",
       "      <td>1</td>\n",
       "    </tr>\n",
       "  </tbody>\n",
       "</table>\n",
       "</div>"
      ],
      "text/plain": [
       "   id        name  age gender             breed  temperament  hungry\n",
       "0   1      Snoopy    3      M            beagle     friendly       1\n",
       "1   2     McGruff   10      M        bloodhound        aware       0\n",
       "2   3      Scooby    6      M        great dane       hungry       1\n",
       "3   4  Little Ann    5      F         coonhound        loyal       0\n",
       "4   5     Pickles   13      F         black lab  mischievous       1\n",
       "5   6    Clifford    4      M           big red       smiley       1\n",
       "6   7      Lassie    7      F            collie       loving       1\n",
       "7   8       Snowy    8      F       fox terrier  adventurous       0\n",
       "8   9        None    4      M  golden retriever      playful       1"
      ]
     },
     "execution_count": 2,
     "metadata": {},
     "output_type": "execute_result"
    }
   ],
   "source": [
    "cur.execute(\"\"\"SELECT * FROM dogs;\"\"\")\n",
    "df = pd.DataFrame(cur.fetchall())\n",
    "df.columns = [x[0] for x in cur.description]\n",
    "df"
   ]
  },
  {
   "cell_type": "markdown",
   "metadata": {},
   "source": [
    "Select the name and breed for all female dogs\n"
   ]
  },
  {
   "cell_type": "code",
   "execution_count": 5,
   "metadata": {},
   "outputs": [
    {
     "data": {
      "text/plain": [
       "[('Little Ann', 'coonhound'),\n",
       " ('Pickles', 'black lab'),\n",
       " ('Lassie', 'collie'),\n",
       " ('Snowy', 'fox terrier')]"
      ]
     },
     "execution_count": 5,
     "metadata": {},
     "output_type": "execute_result"
    }
   ],
   "source": [
    "cur.execute('''select name, breed from dogs where gender is \"F\";''').fetchall()"
   ]
  },
  {
   "cell_type": "markdown",
   "metadata": {},
   "source": [
    "Select the names and age of all dogs listed in alphabetical order. \n",
    "Notice that SQL lists the nameless dog first."
   ]
  },
  {
   "cell_type": "code",
   "execution_count": 6,
   "metadata": {},
   "outputs": [
    {
     "data": {
      "text/plain": [
       "[(None, 4),\n",
       " ('Clifford', 4),\n",
       " ('Lassie', 7),\n",
       " ('Little Ann', 5),\n",
       " ('McGruff', 10),\n",
       " ('Pickles', 13),\n",
       " ('Scooby', 6),\n",
       " ('Snoopy', 3),\n",
       " ('Snowy', 8)]"
      ]
     },
     "execution_count": 6,
     "metadata": {},
     "output_type": "execute_result"
    }
   ],
   "source": [
    "cur.execute('''select name, age from dogs order by name;''').fetchall()"
   ]
  },
  {
   "cell_type": "markdown",
   "metadata": {},
   "source": [
    "Select the names and age of all dogs listed by age. Notice that SQL lists the nameless dog first."
   ]
  },
  {
   "cell_type": "code",
   "execution_count": 8,
   "metadata": {},
   "outputs": [
    {
     "data": {
      "text/plain": [
       "[('Pickles', 13),\n",
       " ('McGruff', 10),\n",
       " ('Snowy', 8),\n",
       " ('Lassie', 7),\n",
       " ('Scooby', 6),\n",
       " ('Little Ann', 5),\n",
       " ('Clifford', 4),\n",
       " (None, 4),\n",
       " ('Snoopy', 3)]"
      ]
     },
     "execution_count": 8,
     "metadata": {},
     "output_type": "execute_result"
    }
   ],
   "source": [
    "cur.execute('''select name, age from dogs order by age desc;''').fetchall()"
   ]
  },
  {
   "cell_type": "markdown",
   "metadata": {},
   "source": [
    "Select any dog that doesn't have a name\n"
   ]
  },
  {
   "cell_type": "code",
   "execution_count": 11,
   "metadata": {},
   "outputs": [
    {
     "data": {
      "text/plain": [
       "[(9, None, 4, 'M', 'golden retriever', 'playful', 1)]"
      ]
     },
     "execution_count": 11,
     "metadata": {},
     "output_type": "execute_result"
    }
   ],
   "source": [
    "cur.execute('''select * from dogs where name is null;''').fetchall()"
   ]
  },
  {
   "cell_type": "markdown",
   "metadata": {},
   "source": [
    "Select the name and breed of only the hungry dogs and list them from youngest to oldest\n"
   ]
  },
  {
   "cell_type": "code",
   "execution_count": 13,
   "metadata": {},
   "outputs": [
    {
     "data": {
      "text/plain": [
       "[('Snoopy', 'beagle'),\n",
       " ('Clifford', 'big red'),\n",
       " (None, 'golden retriever'),\n",
       " ('Scooby', 'great dane'),\n",
       " ('Lassie', 'collie'),\n",
       " ('Pickles', 'black lab')]"
      ]
     },
     "execution_count": 13,
     "metadata": {},
     "output_type": "execute_result"
    }
   ],
   "source": [
    "cur.execute('''select name, breed from dogs where hungry is 1 order by age asc;''').fetchall()"
   ]
  },
  {
   "cell_type": "markdown",
   "metadata": {},
   "source": [
    "Select the oldest dog's name, age, and temperament\n"
   ]
  },
  {
   "cell_type": "code",
   "execution_count": 14,
   "metadata": {},
   "outputs": [
    {
     "data": {
      "text/plain": [
       "[('Pickles', 13, 'mischievous')]"
      ]
     },
     "execution_count": 14,
     "metadata": {},
     "output_type": "execute_result"
    }
   ],
   "source": [
    "cur.execute('''select name, age, temperament from dogs order by age desc limit 1;''').fetchall()"
   ]
  },
  {
   "cell_type": "markdown",
   "metadata": {},
   "source": [
    "Select the three youngest dogs\n"
   ]
  },
  {
   "cell_type": "code",
   "execution_count": 16,
   "metadata": {},
   "outputs": [
    {
     "data": {
      "text/plain": [
       "[('Snoopy', 3), ('Clifford', 4), (None, 4)]"
      ]
     },
     "execution_count": 16,
     "metadata": {},
     "output_type": "execute_result"
    }
   ],
   "source": [
    "cur.execute('''select name, age from dogs order by age asc limit 3;''').fetchall()"
   ]
  },
  {
   "cell_type": "markdown",
   "metadata": {},
   "source": [
    "Select the name and breed of the dogs who are between five and ten years old, ordered from oldest to youngest\n"
   ]
  },
  {
   "cell_type": "code",
   "execution_count": 19,
   "metadata": {},
   "outputs": [
    {
     "data": {
      "text/plain": [
       "[('Little Ann', 'coonhound'),\n",
       " ('Scooby', 'great dane'),\n",
       " ('Lassie', 'collie'),\n",
       " ('Snowy', 'fox terrier'),\n",
       " ('McGruff', 'bloodhound')]"
      ]
     },
     "execution_count": 19,
     "metadata": {},
     "output_type": "execute_result"
    }
   ],
   "source": [
    "cur.execute('''select name, breed from dogs where age between 5 and 10 order by age asc;''').fetchall()"
   ]
  },
  {
   "cell_type": "markdown",
   "metadata": {},
   "source": [
    "Select the name, age, and hungry columns for hungry dogs between the ages of two and seven. This query should also list these dogs in alphabetical order.\n"
   ]
  },
  {
   "cell_type": "code",
   "execution_count": 22,
   "metadata": {},
   "outputs": [
    {
     "data": {
      "text/plain": [
       "[(None, 4, 1),\n",
       " ('Clifford', 4, 1),\n",
       " ('Lassie', 7, 1),\n",
       " ('Scooby', 6, 1),\n",
       " ('Snoopy', 3, 1)]"
      ]
     },
     "execution_count": 22,
     "metadata": {},
     "output_type": "execute_result"
    }
   ],
   "source": [
    "cur.execute('''select name, age, hungry from dogs where hungry = 1 and age between 2 and 7 order by name;''').fetchall()"
   ]
  },
  {
   "cell_type": "code",
   "execution_count": 3,
   "metadata": {},
   "outputs": [
    {
     "data": {
      "text/html": [
       "<div>\n",
       "<style scoped>\n",
       "    .dataframe tbody tr th:only-of-type {\n",
       "        vertical-align: middle;\n",
       "    }\n",
       "\n",
       "    .dataframe tbody tr th {\n",
       "        vertical-align: top;\n",
       "    }\n",
       "\n",
       "    .dataframe thead th {\n",
       "        text-align: right;\n",
       "    }\n",
       "</style>\n",
       "<table border=\"1\" class=\"dataframe\">\n",
       "  <thead>\n",
       "    <tr style=\"text-align: right;\">\n",
       "      <th></th>\n",
       "      <th>id</th>\n",
       "      <th>name</th>\n",
       "      <th>color</th>\n",
       "      <th>num_of_moons</th>\n",
       "      <th>mass</th>\n",
       "      <th>rings</th>\n",
       "    </tr>\n",
       "  </thead>\n",
       "  <tbody>\n",
       "    <tr>\n",
       "      <td>0</td>\n",
       "      <td>1</td>\n",
       "      <td>Mercury</td>\n",
       "      <td>gray</td>\n",
       "      <td>0</td>\n",
       "      <td>0.55</td>\n",
       "      <td>0</td>\n",
       "    </tr>\n",
       "    <tr>\n",
       "      <td>1</td>\n",
       "      <td>2</td>\n",
       "      <td>Venus</td>\n",
       "      <td>yellow</td>\n",
       "      <td>0</td>\n",
       "      <td>0.82</td>\n",
       "      <td>0</td>\n",
       "    </tr>\n",
       "    <tr>\n",
       "      <td>2</td>\n",
       "      <td>3</td>\n",
       "      <td>Earth</td>\n",
       "      <td>blue</td>\n",
       "      <td>1</td>\n",
       "      <td>1.00</td>\n",
       "      <td>0</td>\n",
       "    </tr>\n",
       "    <tr>\n",
       "      <td>3</td>\n",
       "      <td>4</td>\n",
       "      <td>Mars</td>\n",
       "      <td>red</td>\n",
       "      <td>2</td>\n",
       "      <td>0.11</td>\n",
       "      <td>0</td>\n",
       "    </tr>\n",
       "    <tr>\n",
       "      <td>4</td>\n",
       "      <td>5</td>\n",
       "      <td>Jupiter</td>\n",
       "      <td>orange</td>\n",
       "      <td>68</td>\n",
       "      <td>317.90</td>\n",
       "      <td>0</td>\n",
       "    </tr>\n",
       "    <tr>\n",
       "      <td>5</td>\n",
       "      <td>6</td>\n",
       "      <td>Saturn</td>\n",
       "      <td>hazel</td>\n",
       "      <td>62</td>\n",
       "      <td>95.19</td>\n",
       "      <td>1</td>\n",
       "    </tr>\n",
       "    <tr>\n",
       "      <td>6</td>\n",
       "      <td>7</td>\n",
       "      <td>Uranus</td>\n",
       "      <td>light blue</td>\n",
       "      <td>27</td>\n",
       "      <td>14.54</td>\n",
       "      <td>1</td>\n",
       "    </tr>\n",
       "    <tr>\n",
       "      <td>7</td>\n",
       "      <td>8</td>\n",
       "      <td>Neptune</td>\n",
       "      <td>dark blue</td>\n",
       "      <td>14</td>\n",
       "      <td>17.15</td>\n",
       "      <td>1</td>\n",
       "    </tr>\n",
       "  </tbody>\n",
       "</table>\n",
       "</div>"
      ],
      "text/plain": [
       "   id     name       color  num_of_moons    mass  rings\n",
       "0   1  Mercury        gray             0    0.55      0\n",
       "1   2    Venus      yellow             0    0.82      0\n",
       "2   3    Earth        blue             1    1.00      0\n",
       "3   4     Mars         red             2    0.11      0\n",
       "4   5  Jupiter      orange            68  317.90      0\n",
       "5   6   Saturn       hazel            62   95.19      1\n",
       "6   7   Uranus  light blue            27   14.54      1\n",
       "7   8  Neptune   dark blue            14   17.15      1"
      ]
     },
     "execution_count": 3,
     "metadata": {},
     "output_type": "execute_result"
    }
   ],
   "source": [
    "cur1.execute(\"\"\"SELECT * FROM planets;\"\"\")\n",
    "df1 = pd.DataFrame(cur1.fetchall())\n",
    "df1.columns = [x[0] for x in cur1.description]\n",
    "df1"
   ]
  },
  {
   "cell_type": "code",
   "execution_count": null,
   "metadata": {},
   "outputs": [],
   "source": []
  }
 ],
 "metadata": {
  "kernelspec": {
   "display_name": "Python 3",
   "language": "python",
   "name": "python3"
  },
  "language_info": {
   "codemirror_mode": {
    "name": "ipython",
    "version": 3
   },
   "file_extension": ".py",
   "mimetype": "text/x-python",
   "name": "python",
   "nbconvert_exporter": "python",
   "pygments_lexer": "ipython3",
   "version": "3.7.4"
  }
 },
 "nbformat": 4,
 "nbformat_minor": 2
}
